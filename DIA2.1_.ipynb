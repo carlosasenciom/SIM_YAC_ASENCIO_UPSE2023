{
  "nbformat": 4,
  "nbformat_minor": 0,
  "metadata": {
    "colab": {
      "provenance": [],
      "authorship_tag": "ABX9TyN+/3nLc/ZcNDAsQ8a50WGX",
      "include_colab_link": true
    },
    "kernelspec": {
      "name": "python3",
      "display_name": "Python 3"
    },
    "language_info": {
      "name": "python"
    }
  },
  "cells": [
    {
      "cell_type": "markdown",
      "metadata": {
        "id": "view-in-github",
        "colab_type": "text"
      },
      "source": [
        "<a href=\"https://colab.research.google.com/github/carlosasenciom/SIM_YAC_ASENCIO_UPSE2023/blob/main/DIA2.1_.ipynb\" target=\"_parent\"><img src=\"https://colab.research.google.com/assets/colab-badge.svg\" alt=\"Open In Colab\"/></a>"
      ]
    },
    {
      "cell_type": "code",
      "execution_count": null,
      "metadata": {
        "colab": {
          "base_uri": "https://localhost:8080/"
        },
        "id": "P1h1NaoXTfMa",
        "outputId": "3fdd3fe9-3da5-463a-fdcf-2aa59cd9f298"
      },
      "outputs": [
        {
          "output_type": "stream",
          "name": "stdout",
          "text": [
            "[1 1 1 1 1 1]\n"
          ]
        }
      ],
      "source": [
        "import numpy as np\n",
        "L=1000\n",
        "dx=200\n",
        "Distance=np.arange(0,L+1,dx)\n",
        "P01=np.ones_like(Distance)\n",
        "print(P01)"
      ]
    },
    {
      "cell_type": "code",
      "source": [
        "PYac=4000\n",
        "Pfrontd=0\n",
        "Pfronti=0\n",
        "Tiempo=100\n",
        "Dt = 10\n",
        "Pdt=np.zeros_like(Distance)"
      ],
      "metadata": {
        "id": "TXfrv0KmUM9G"
      },
      "execution_count": null,
      "outputs": []
    },
    {
      "cell_type": "code",
      "source": [
        "P01 = np.ones_like(Distance)\n",
        "P01=P01*PYac\n",
        "P01[0]=Pfronti\n",
        "P01[len(P01)-1]=Pfrontd\n",
        "P0in=P01\n",
        "Pdt=P01\n",
        "t = Dt\n",
        "print(P01)"
      ],
      "metadata": {
        "colab": {
          "base_uri": "https://localhost:8080/"
        },
        "id": "IjReRrngUmPw",
        "outputId": "05f9908e-3b2d-4c96-db2f-ef02ea3ff29d"
      },
      "execution_count": null,
      "outputs": [
        {
          "output_type": "stream",
          "name": "stdout",
          "text": [
            "[   0 4000 4000 4000 4000    0]\n"
          ]
        }
      ]
    },
    {
      "cell_type": "code",
      "source": [
        "def Presdt(P1, P2, P3, deltat, deltax):\n",
        "  return(((P1-2*P2+P3)/(deltax*deltax))*deltat)+P2"
      ],
      "metadata": {
        "id": "xockdBG-Vqul"
      },
      "execution_count": null,
      "outputs": []
    },
    {
      "cell_type": "code",
      "source": [
        "while t<Tiempo:\n",
        "    for i in range(0,len(P0in)-1):\n",
        "      if i==0:\n",
        "        Pdt[i]=P0in[0]\n",
        "      elif i==len(P0in)-1:\n",
        "        Pdt[i]=P0in[len(P0in)-1]\n",
        "      else:\n",
        "        Pdt[i]=Presdt(P0in[i-1], P0in[i], P0in[i+1], Dt, dx)\n",
        "    t=t+Dt\n",
        "    P0in=Pdt\n",
        "    P01=np.append(P01,Pdt)"
      ],
      "metadata": {
        "id": "NAlAuDdtWEi2"
      },
      "execution_count": null,
      "outputs": []
    },
    {
      "cell_type": "code",
      "source": [
        "print(P01)"
      ],
      "metadata": {
        "colab": {
          "base_uri": "https://localhost:8080/"
        },
        "id": "145AAoBBWyA2",
        "outputId": "094977d8-c8e7-463b-b92c-698f41e5eaa4"
      },
      "execution_count": null,
      "outputs": [
        {
          "output_type": "stream",
          "name": "stdout",
          "text": [
            "[   0 3999 3999 3999 3998    0    0 3999 3999 3999 3998    0    0 3998\n",
            " 3998 3998 3997    0    0 3997 3997 3997 3996    0    0 3996 3996 3996\n",
            " 3995    0    0 3995 3995 3995 3994    0    0 3994 3994 3994 3993    0\n",
            "    0 3993 3993 3993 3992    0    0 3992 3992 3992 3991    0    0 3991\n",
            " 3991 3991 3990    0]\n"
          ]
        }
      ]
    },
    {
      "cell_type": "code",
      "source": [],
      "metadata": {
        "id": "Adt5GT0vW2tc"
      },
      "execution_count": null,
      "outputs": []
    }
  ]
}