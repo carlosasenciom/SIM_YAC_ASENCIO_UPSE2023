{
  "nbformat": 4,
  "nbformat_minor": 0,
  "metadata": {
    "colab": {
      "provenance": [],
      "authorship_tag": "ABX9TyOqUyusJZsGxkdMRsRb/IE8",
      "include_colab_link": true
    },
    "kernelspec": {
      "name": "python3",
      "display_name": "Python 3"
    },
    "language_info": {
      "name": "python"
    }
  },
  "cells": [
    {
      "cell_type": "markdown",
      "metadata": {
        "id": "view-in-github",
        "colab_type": "text"
      },
      "source": [
        "<a href=\"https://colab.research.google.com/github/carlosasenciom/SIM_YAC_ASENCIO_UPSE2023/blob/main/Prueba1.ipynb\" target=\"_parent\"><img src=\"https://colab.research.google.com/assets/colab-badge.svg\" alt=\"Open In Colab\"/></a>"
      ]
    },
    {
      "cell_type": "code",
      "execution_count": null,
      "metadata": {
        "id": "uZTcW0yw9rY7"
      },
      "outputs": [],
      "source": [
        "#hola mundo"
      ]
    },
    {
      "cell_type": "markdown",
      "source": [
        "Calculos"
      ],
      "metadata": {
        "id": "IY6HpxuaIg4T"
      }
    },
    {
      "cell_type": "code",
      "source": [],
      "metadata": {
        "id": "2BL77W62Im7H",
        "outputId": "7ca1721f-4f39-4cc3-b5bc-ef1a56be0064",
        "colab": {
          "base_uri": "https://localhost:8080/"
        }
      },
      "execution_count": 4,
      "outputs": [
        {
          "output_type": "execute_result",
          "data": {
            "text/plain": [
              "10"
            ]
          },
          "metadata": {},
          "execution_count": 4
        }
      ]
    },
    {
      "cell_type": "code",
      "source": [
        "import math\n",
        "math.sin(90)"
      ],
      "metadata": {
        "id": "WLxZsKEeIr78",
        "outputId": "35db3f87-29e3-47c3-d760-f3356ac2c5b9",
        "colab": {
          "base_uri": "https://localhost:8080/"
        }
      },
      "execution_count": 5,
      "outputs": [
        {
          "output_type": "execute_result",
          "data": {
            "text/plain": [
              "0.8939966636005579"
            ]
          },
          "metadata": {},
          "execution_count": 5
        }
      ]
    },
    {
      "cell_type": "code",
      "source": [
        "def suma(x,y):\n",
        "  return x+y"
      ],
      "metadata": {
        "id": "ERDBNtQEJXC4"
      },
      "execution_count": 8,
      "outputs": []
    },
    {
      "cell_type": "code",
      "source": [
        "suma(200,300)"
      ],
      "metadata": {
        "id": "-AuiXs4WKH7Y",
        "outputId": "8dedfa1b-a6aa-4812-f88c-ba22376530f1",
        "colab": {
          "base_uri": "https://localhost:8080/"
        }
      },
      "execution_count": 9,
      "outputs": [
        {
          "output_type": "execute_result",
          "data": {
            "text/plain": [
              "500"
            ]
          },
          "metadata": {},
          "execution_count": 9
        }
      ]
    },
    {
      "cell_type": "code",
      "source": [],
      "metadata": {
        "id": "RjKm6MQUKSM0"
      },
      "execution_count": null,
      "outputs": []
    }
  ]
}