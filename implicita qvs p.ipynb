{
  "nbformat": 4,
  "nbformat_minor": 0,
  "metadata": {
    "colab": {
      "provenance": [],
      "include_colab_link": true
    },
    "kernelspec": {
      "name": "python3",
      "display_name": "Python 3"
    },
    "language_info": {
      "name": "python"
    }
  },
  "cells": [
    {
      "cell_type": "markdown",
      "metadata": {
        "id": "view-in-github",
        "colab_type": "text"
      },
      "source": [
        "<a href=\"https://colab.research.google.com/github/carlosasenciom/SIM_YAC_ASENCIO_UPSE2023/blob/main/implicita%20qvs%20p.ipynb\" target=\"_parent\"><img src=\"https://colab.research.google.com/assets/colab-badge.svg\" alt=\"Open In Colab\"/></a>"
      ]
    },
    {
      "cell_type": "code",
      "execution_count": 14,
      "metadata": {
        "id": "EHoUGrhlPQxl"
      },
      "outputs": [],
      "source": [
        "import numpy  as np\n",
        "import math"
      ]
    },
    {
      "cell_type": "code",
      "source": [
        "\n",
        "L=30000\n",
        "dx=600\n",
        "Tiempo=100\n",
        "DT=1\n",
        "K=50 #Permeabilidad MD\n",
        "por=0.5\n",
        "vis=1 # centipoise\n",
        "Beta=0.7\n",
        "CompTotal=1.2*10**(-6) #ps1-1\n",
        "A=200000#ft^2"
      ],
      "metadata": {
        "id": "O0koqx7CPe9W"
      },
      "execution_count": 58,
      "outputs": []
    },
    {
      "cell_type": "code",
      "source": [
        "30000/600"
      ],
      "metadata": {
        "id": "uuJaM_exdYB_",
        "outputId": "80a7797c-33e1-4e74-be72-0c0b0b8fc260",
        "colab": {
          "base_uri": "https://localhost:8080/"
        }
      },
      "execution_count": 59,
      "outputs": [
        {
          "output_type": "execute_result",
          "data": {
            "text/plain": [
              "50.0"
            ]
          },
          "metadata": {},
          "execution_count": 59
        }
      ]
    },
    {
      "cell_type": "code",
      "source": [
        "\n",
        "Alpha=K/(vis*por*CompTotal)\n",
        "Alpha\n",
        "Eta=(Alpha*DT)/(dx**2)\n",
        "Eta"
      ],
      "metadata": {
        "colab": {
          "base_uri": "https://localhost:8080/"
        },
        "id": "1oNFZa1nPi3d",
        "outputId": "aaaf779e-c263-4a2f-82cd-daafd9dae1f8"
      },
      "execution_count": 60,
      "outputs": [
        {
          "output_type": "execute_result",
          "data": {
            "text/plain": [
              "231.4814814814815"
            ]
          },
          "metadata": {},
          "execution_count": 60
        }
      ]
    },
    {
      "cell_type": "code",
      "source": [
        "#Condiciones iniciales\n",
        "Pyac=1000\n",
        "Piz=1000\n",
        "Pder=0\n",
        "Pin=np.ones((L//dx)+2)\n",
        "Qres=np.zeros((L//dx))\n",
        "Pres=np.zeros((L//dx)+2)\n",
        "Pin=Pin*Pyac\n",
        "Pin[25]=7000\n",
        "Pin[len(Pin)-1]=2*Pder-Pin[len(Pin)-2]\n",
        "\n",
        "Pin.shape"
      ],
      "metadata": {
        "colab": {
          "base_uri": "https://localhost:8080/"
        },
        "id": "U9zaXOfcPjvU",
        "outputId": "babc2348-3be1-4f98-bc0a-d535163290ef"
      },
      "execution_count": 61,
      "outputs": [
        {
          "output_type": "execute_result",
          "data": {
            "text/plain": [
              "(52,)"
            ]
          },
          "metadata": {},
          "execution_count": 61
        }
      ]
    },
    {
      "cell_type": "code",
      "source": [
        "#Esquema Implicito\n",
        "Pimplicita=np.zeros((Tiempo//DT,(L//dx)+2))\n",
        "Qimplicita=np.zeros((Tiempo//DT,(L//dx)))\n",
        "Pres=np.zeros((L//dx)+2)\n",
        "Pin=np.ones((L//dx)+2)\n",
        "Pin=Pin*Pyac\n",
        "Pin[0]=Piz\n",
        "Pin[len(Pin)-1]=Pder\n",
        "N=(L//dx)+2\n",
        "Baccumul=A*dx*por*CompTotal/Beta\n",
        "Transmisibilidad=(K*A/(vis*Beta*dx))*6.33*10**-3\n",
        "B=np.zeros([N-2,N-2])\n",
        "T=np.zeros([N-2,N-2])\n",
        "Transmisibilidad"
      ],
      "metadata": {
        "colab": {
          "base_uri": "https://localhost:8080/"
        },
        "id": "5nds1DdAPmf2",
        "outputId": "a429c236-0041-4602-9f94-11fdde285fa8"
      },
      "execution_count": 62,
      "outputs": [
        {
          "output_type": "execute_result",
          "data": {
            "text/plain": [
              "150.71428571428572"
            ]
          },
          "metadata": {},
          "execution_count": 62
        }
      ]
    },
    {
      "cell_type": "code",
      "source": [
        "for i in range(0,N-2):\n",
        "  B[i,i]=Baccumul\n",
        "\n",
        "\n",
        "for i in range(0,N-2):\n",
        "  T[i,i]=2*Transmisibilidad\n",
        "  if i>0:\n",
        "    T[i,i-1]=-Transmisibilidad\n",
        "  if i<(N-3):\n",
        "    T[i,i+1]=-Transmisibilidad\n",
        "#T[0,0]=3*Transmisibilidad\n",
        "T[0,0]=2*Transmisibilidad\n",
        "T[N-3,N-3]=2*Transmisibilidad\n"
      ],
      "metadata": {
        "id": "yhFqgKV0PpMF"
      },
      "execution_count": 63,
      "outputs": []
    },
    {
      "cell_type": "code",
      "source": [
        "Matriz_resolucion=np.zeros_like(T)\n",
        "Vector_sol=np.zeros_like(Pin[1:-1])\n",
        "Matriz_resolucion=T+(B/DT)\n",
        "Vector_sol=np.matmul(B/DT,Pin[1:-1])\n",
        "#Pres=[]\n",
        "\n",
        "Q=np.zeros_like(Vector_sol)\n",
        "Q[0]=2*Transmisibilidad*Piz\n",
        "Vector_sol=Vector_sol+Q\n",
        "Vector_sol\n",
        "Transmisibilidad"
      ],
      "metadata": {
        "colab": {
          "base_uri": "https://localhost:8080/"
        },
        "id": "hPXymxltPu9z",
        "outputId": "4d96fa5c-8b39-4eee-dc22-2ecafde8ea41"
      },
      "execution_count": 64,
      "outputs": [
        {
          "output_type": "execute_result",
          "data": {
            "text/plain": [
              "150.71428571428572"
            ]
          },
          "metadata": {},
          "execution_count": 64
        }
      ]
    },
    {
      "cell_type": "code",
      "source": [
        "Pcal=np.linalg.solve(Matriz_resolucion,Vector_sol)"
      ],
      "metadata": {
        "id": "vq0zEd2pPyoF"
      },
      "execution_count": 65,
      "outputs": []
    },
    {
      "cell_type": "code",
      "source": [
        "Qimplicita[0]=Q\n",
        "t=DT\n",
        "while t<Tiempo:\n",
        "  Pcal=np.linalg.solve(Matriz_resolucion,Vector_sol)\n",
        "  Pres=np.concatenate(([Piz],Pcal,[Pder]))\n",
        "  Pres[25]=7000\n",
        "  Pimplicita[t//DT]=Pres\n",
        "  Vector_sol=np.matmul(B/DT,Pcal)+Q\n",
        "  Qimplicita[t//DT]=Vector_sol\n",
        "  t=t+DT"
      ],
      "metadata": {
        "id": "ca-7RsifPzlt"
      },
      "execution_count": 66,
      "outputs": []
    },
    {
      "cell_type": "code",
      "source": [
        "Qimplicita\n"
      ],
      "metadata": {
        "id": "6jA7__O0omBU",
        "outputId": "7075af97-f830-4583-80dc-a7afea7498de",
        "colab": {
          "base_uri": "https://localhost:8080/"
        }
      },
      "execution_count": 68,
      "outputs": [
        {
          "output_type": "execute_result",
          "data": {
            "text/plain": [
              "array([[301428.57142857,      0.        ,      0.        , ...,\n",
              "             0.        ,      0.        ,      0.        ],\n",
              "       [450305.85057743, 123447.37981569, 112069.58532628, ...,\n",
              "         93644.70038801,  82266.90589859,  56837.00656543],\n",
              "       [467874.99748492, 139168.88466704, 122620.71151751, ...,\n",
              "         83093.57419678,  66545.40104725,  39267.85965793],\n",
              "       ...,\n",
              "       [502153.01444585, 195749.19194187, 190802.89710509, ...,\n",
              "         14911.3886092 ,   9965.09377242,   4989.842697  ],\n",
              "       [502173.91942071, 195790.67717225, 190864.31854752, ...,\n",
              "         14849.96716677,   9923.60854203,   4968.93772215],\n",
              "       [502194.35984262, 195831.2409752 , 190924.37689003, ...,\n",
              "         14789.90882426,   9883.04473908,   4948.49730024]])"
            ]
          },
          "metadata": {},
          "execution_count": 68
        }
      ]
    },
    {
      "cell_type": "code",
      "source": [
        "Pimplicita"
      ],
      "metadata": {
        "id": "iFYcfCy7pGNq",
        "outputId": "af44f251-cac2-4319-e122-9d32ed15218c",
        "colab": {
          "base_uri": "https://localhost:8080/"
        }
      },
      "execution_count": 69,
      "outputs": [
        {
          "output_type": "execute_result",
          "data": {
            "text/plain": [
              "array([[   0.        ,    0.        ,    0.        , ...,    0.        ,\n",
              "           0.        ,    0.        ],\n",
              "       [1000.        , 1447.41799173, 1200.18285932, ...,  799.81714068,\n",
              "         552.58200827,    0.        ],\n",
              "       [1000.        , 1618.22914221, 1353.03082315, ...,  646.96917685,\n",
              "         381.77085779,    0.        ],\n",
              "       ...,\n",
              "       [1000.        , 1951.48764045, 1903.11714388, ...,   96.88285612,\n",
              "          48.51235955,    0.        ],\n",
              "       [1000.        , 1951.69088326, 1903.52047251, ...,   96.47952749,\n",
              "          48.30911674,    0.        ],\n",
              "       [1000.        , 1951.88960958, 1903.91484281, ...,   96.08515719,\n",
              "          48.11039042,    0.        ]])"
            ]
          },
          "metadata": {},
          "execution_count": 69
        }
      ]
    },
    {
      "cell_type": "code",
      "source": [
        "import matplotlib.pyplot as plt\n",
        "\n",
        "imgplot = plt.imshow(Qimplicita,aspect='auto')\n",
        "plt.colorbar()"
      ],
      "metadata": {
        "colab": {
          "base_uri": "https://localhost:8080/",
          "height": 451
        },
        "id": "UNBqYKcRQLZc",
        "outputId": "5ffa653f-71ed-434f-9063-4c1231150e95"
      },
      "execution_count": 70,
      "outputs": [
        {
          "output_type": "execute_result",
          "data": {
            "text/plain": [
              "<matplotlib.colorbar.Colorbar at 0x7f0a409d3e20>"
            ]
          },
          "metadata": {},
          "execution_count": 70
        },
        {
          "output_type": "display_data",
          "data": {
            "text/plain": [
              "<Figure size 640x480 with 2 Axes>"
            ],
            "image/png": "[encoded data removed]"
          },
          "metadata": {}
        }
      ]
    },
    {
      "cell_type": "code",
      "source": [
        "import matplotlib.pyplot as plt\n",
        "\n",
        "imgplot = plt.imshow(Pimplicita,aspect='auto')\n",
        "plt.colorbar()"
      ],
      "metadata": {
        "colab": {
          "base_uri": "https://localhost:8080/",
          "height": 452
        },
        "id": "cgO7dJIFQSdp",
        "outputId": "fb4bd9a4-7dbd-4170-8db1-9b68061ee73f"
      },
      "execution_count": 71,
      "outputs": [
        {
          "output_type": "execute_result",
          "data": {
            "text/plain": [
              "<matplotlib.colorbar.Colorbar at 0x7f0a40895ed0>"
            ]
          },
          "metadata": {},
          "execution_count": 71
        },
        {
          "output_type": "display_data",
          "data": {
            "text/plain": [
              "<Figure size 640x480 with 2 Axes>"
            ],
            "image/png": "[encoded data removed]"
          },
          "metadata": {}
        }
      ]
    },
    {
      "cell_type": "code",
      "source": [],
      "metadata": {
        "id": "mOhEW3qDNm0M"
      },
      "execution_count": null,
      "outputs": []
    }
  ]
}